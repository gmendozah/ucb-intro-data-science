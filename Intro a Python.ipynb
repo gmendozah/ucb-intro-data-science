{
 "cells": [
  {
   "cell_type": "code",
   "execution_count": 2,
   "id": "edecb49d",
   "metadata": {},
   "outputs": [
    {
     "name": "stdout",
     "output_type": "stream",
     "text": [
      "Hello World!\n",
      "Otra Linea\n",
      "\n",
      "Fin\n"
     ]
    }
   ],
   "source": [
    "print(\"Hello\", \"World!\")\n",
    "print(\"Otra Linea\")\n",
    "\n",
    "print()\n",
    "print(\"Fin\")\n"
   ]
  },
  {
   "cell_type": "code",
   "execution_count": 3,
   "id": "f6e5e83d",
   "metadata": {},
   "outputs": [
    {
     "data": {
      "text/plain": [
       "[1, 2, 3, 4, 5]"
      ]
     },
     "execution_count": 3,
     "metadata": {},
     "output_type": "execute_result"
    }
   ],
   "source": [
    "[1,2,3,4,5]"
   ]
  },
  {
   "cell_type": "code",
   "execution_count": 7,
   "id": "04bf843f",
   "metadata": {},
   "outputs": [
    {
     "name": "stdout",
     "output_type": "stream",
     "text": [
      "10\n",
      "String 5\n"
     ]
    }
   ],
   "source": [
    "a=5\n",
    "\n",
    "print(a+5)\n",
    "\n",
    "a = 'String'\n",
    "\n",
    "print(a+\" 5\")\n"
   ]
  },
  {
   "cell_type": "code",
   "execution_count": 8,
   "id": "42a2893c",
   "metadata": {},
   "outputs": [
    {
     "data": {
      "text/plain": [
       "45"
      ]
     },
     "execution_count": 8,
     "metadata": {},
     "output_type": "execute_result"
    }
   ],
   "source": [
    "int(\"45\")"
   ]
  },
  {
   "cell_type": "code",
   "execution_count": 9,
   "id": "c295201d",
   "metadata": {},
   "outputs": [],
   "source": [
    " p = (4, \"frog\", 9, -33, 9, 2)"
   ]
  },
  {
   "cell_type": "code",
   "execution_count": 10,
   "id": "ae7c4f09",
   "metadata": {},
   "outputs": [
    {
     "data": {
      "text/plain": [
       "True"
      ]
     },
     "execution_count": 10,
     "metadata": {},
     "output_type": "execute_result"
    }
   ],
   "source": [
    "2 in p"
   ]
  },
  {
   "cell_type": "code",
   "execution_count": 14,
   "id": "8998051c",
   "metadata": {},
   "outputs": [
    {
     "name": "stdout",
     "output_type": "stream",
     "text": [
      "large\n"
     ]
    }
   ],
   "source": [
    "lines = 15000\n",
    "if lines < 1000:\n",
    "    print(\"small\")\n",
    "elif lines < 10000:\n",
    "    print(\"medium\")\n",
    "else:\n",
    "    print(\"large\")"
   ]
  },
  {
   "cell_type": "code",
   "execution_count": 15,
   "id": "0d7dcd7c",
   "metadata": {},
   "outputs": [],
   "source": [
    "c = 0"
   ]
  },
  {
   "cell_type": "code",
   "execution_count": 16,
   "id": "f1eb9dc9",
   "metadata": {},
   "outputs": [
    {
     "name": "stdout",
     "output_type": "stream",
     "text": [
      "0\n",
      "1\n",
      "2\n",
      "3\n"
     ]
    }
   ],
   "source": [
    "while c < 4:\n",
    "    print(c)\n",
    "    c = c + 1"
   ]
  },
  {
   "cell_type": "code",
   "execution_count": 18,
   "id": "4be3862e",
   "metadata": {},
   "outputs": [
    {
     "name": "stdout",
     "output_type": "stream",
     "text": [
      "A is a vowel\n",
      "B is a consonant\n",
      "C is a consonant\n",
      "D is a consonant\n",
      "E is a vowel\n",
      "F is a consonant\n",
      "G is a consonant\n",
      "H is a consonant\n",
      "I is a vowel\n",
      "J is a consonant\n",
      "K is a consonant\n",
      "L is a consonant\n",
      "M is a consonant\n",
      "N is a consonant\n",
      "O is a vowel\n",
      "P is a consonant\n",
      "Q is a consonant\n",
      "R is a consonant\n",
      "S is a consonant\n",
      "T is a consonant\n",
      "U is a vowel\n",
      "V is a consonant\n",
      "W is a consonant\n",
      "X is a consonant\n",
      "Y is a consonant\n",
      "Z is a consonant\n"
     ]
    }
   ],
   "source": [
    "for letter in \"ABCDEFGHIJKLMNOPQRSTUVWXYZ\":\n",
    "    if letter in \"AEIOU\":\n",
    "        print(letter, \"is a vowel\")\n",
    "    else:\n",
    "        print(letter, \"is a consonant\")"
   ]
  },
  {
   "cell_type": "code",
   "execution_count": 23,
   "id": "ce6093a6",
   "metadata": {},
   "outputs": [
    {
     "name": "stdout",
     "output_type": "stream",
     "text": [
      "error\n"
     ]
    }
   ],
   "source": [
    "try:\n",
    "    a = 1/0\n",
    "except:\n",
    "    print('error')"
   ]
  },
  {
   "cell_type": "code",
   "execution_count": 26,
   "id": "3f3b387e",
   "metadata": {},
   "outputs": [],
   "source": [
    "a = 0 "
   ]
  },
  {
   "cell_type": "code",
   "execution_count": 27,
   "id": "2e6ba195",
   "metadata": {},
   "outputs": [],
   "source": [
    "a+=1"
   ]
  },
  {
   "cell_type": "code",
   "execution_count": 28,
   "id": "35330887",
   "metadata": {},
   "outputs": [
    {
     "data": {
      "text/plain": [
       "1"
      ]
     },
     "execution_count": 28,
     "metadata": {},
     "output_type": "execute_result"
    }
   ],
   "source": [
    "a"
   ]
  },
  {
   "cell_type": "code",
   "execution_count": 29,
   "id": "d348a740",
   "metadata": {},
   "outputs": [
    {
     "name": "stdout",
     "output_type": "stream",
     "text": [
      "integer: 24\n"
     ]
    }
   ],
   "source": [
    "line = input(\"integer: \")"
   ]
  },
  {
   "cell_type": "code",
   "execution_count": 30,
   "id": "ab1868a3",
   "metadata": {},
   "outputs": [
    {
     "data": {
      "text/plain": [
       "'24'"
      ]
     },
     "execution_count": 30,
     "metadata": {},
     "output_type": "execute_result"
    }
   ],
   "source": [
    "line"
   ]
  },
  {
   "cell_type": "code",
   "execution_count": null,
   "id": "cea4b3a3",
   "metadata": {},
   "outputs": [],
   "source": []
  },
  {
   "cell_type": "code",
   "execution_count": 62,
   "id": "6c9cf33b",
   "metadata": {},
   "outputs": [],
   "source": [
    "import bigdigits"
   ]
  },
  {
   "cell_type": "code",
   "execution_count": 65,
   "id": "4abcbdae",
   "metadata": {},
   "outputs": [
    {
     "ename": "NameError",
     "evalue": "name 'reload' is not defined",
     "output_type": "error",
     "traceback": [
      "\u001b[0;31m---------------------------------------------------------------------------\u001b[0m",
      "\u001b[0;31mNameError\u001b[0m                                 Traceback (most recent call last)",
      "\u001b[0;32m<ipython-input-65-35246a25099e>\u001b[0m in \u001b[0;36m<module>\u001b[0;34m\u001b[0m\n\u001b[0;32m----> 1\u001b[0;31m \u001b[0mreload\u001b[0m\u001b[0;34m(\u001b[0m\u001b[0mbigdigits\u001b[0m\u001b[0;34m)\u001b[0m\u001b[0;34m\u001b[0m\u001b[0;34m\u001b[0m\u001b[0m\n\u001b[0m",
      "\u001b[0;31mNameError\u001b[0m: name 'reload' is not defined"
     ]
    }
   ],
   "source": [
    "reload(bigdigits)"
   ]
  },
  {
   "cell_type": "code",
   "execution_count": 64,
   "id": "6ddfb662",
   "metadata": {},
   "outputs": [
    {
     "ename": "AttributeError",
     "evalue": "module 'bigdigits' has no attribute 'digitprinter'",
     "output_type": "error",
     "traceback": [
      "\u001b[0;31m---------------------------------------------------------------------------\u001b[0m",
      "\u001b[0;31mAttributeError\u001b[0m                            Traceback (most recent call last)",
      "\u001b[0;32m<ipython-input-64-4c0a474e40cf>\u001b[0m in \u001b[0;36m<module>\u001b[0;34m\u001b[0m\n\u001b[0;32m----> 1\u001b[0;31m \u001b[0mbigdigits\u001b[0m\u001b[0;34m.\u001b[0m\u001b[0mdigitprinter\u001b[0m\u001b[0;34m(\u001b[0m\u001b[0;36m41072819\u001b[0m\u001b[0;34m)\u001b[0m\u001b[0;34m\u001b[0m\u001b[0;34m\u001b[0m\u001b[0m\n\u001b[0m",
      "\u001b[0;31mAttributeError\u001b[0m: module 'bigdigits' has no attribute 'digitprinter'"
     ]
    }
   ],
   "source": [
    "bigdigits.digitprinter(41072819)"
   ]
  },
  {
   "cell_type": "code",
   "execution_count": null,
   "id": "56113886",
   "metadata": {},
   "outputs": [],
   "source": []
  }
 ],
 "metadata": {
  "kernelspec": {
   "display_name": "Python 3",
   "language": "python",
   "name": "python3"
  },
  "language_info": {
   "codemirror_mode": {
    "name": "ipython",
    "version": 3
   },
   "file_extension": ".py",
   "mimetype": "text/x-python",
   "name": "python",
   "nbconvert_exporter": "python",
   "pygments_lexer": "ipython3",
   "version": "3.8.8"
  }
 },
 "nbformat": 4,
 "nbformat_minor": 5
}
