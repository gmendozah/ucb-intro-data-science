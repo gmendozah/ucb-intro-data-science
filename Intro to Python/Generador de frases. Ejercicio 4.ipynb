{
 "cells": [
  {
   "cell_type": "markdown",
   "id": "017fecc2",
   "metadata": {},
   "source": [
    "4) To make the awful poetry program more versatile, add some code to it so\n",
    "that if the user enters a number on the command line (between 1 and 10\n",
    "inclusive), the program will output that many lines. If no command-line\n",
    "argument is given, default to printing ﬁve lines as before. You’ll need to\n",
    "change the main loop (e.g., to a while loop). Keep in mind that Python’s\n",
    "comparison operators can be chained, so there’s no need to use logical and\n",
    "when checking that the argument is in range. The additional functionality\n",
    "can be done by adding about ten lines of code. A solution is provided as\n",
    "awfulpoetry2_ans.py"
   ]
  },
  {
   "cell_type": "code",
   "execution_count": 35,
   "id": "e136d094",
   "metadata": {},
   "outputs": [
    {
     "name": "stdout",
     "output_type": "stream",
     "text": [
      "Value should be between 1 and 10 inclusive\n"
     ]
    }
   ],
   "source": [
    "%run 'awfulpoetry' -3"
   ]
  },
  {
   "cell_type": "code",
   "execution_count": 36,
   "id": "c8eb60f5",
   "metadata": {},
   "outputs": [
    {
     "name": "stdout",
     "output_type": "stream",
     "text": [
      "a dog jumped\n",
      "the sister jumped\n",
      "his dog ran\n",
      "het mother sang well\n",
      "my mother ran loudly\n"
     ]
    }
   ],
   "source": [
    "%run 'awfulpoetry' 5"
   ]
  },
  {
   "cell_type": "code",
   "execution_count": 37,
   "id": "3a7f71c5",
   "metadata": {},
   "outputs": [
    {
     "name": "stdout",
     "output_type": "stream",
     "text": [
      "Value should be between 1 and 10 inclusive\n"
     ]
    }
   ],
   "source": [
    "%run 'awfulpoetry' 11"
   ]
  },
  {
   "cell_type": "code",
   "execution_count": 38,
   "id": "94954fd7",
   "metadata": {},
   "outputs": [
    {
     "name": "stdout",
     "output_type": "stream",
     "text": [
      "Must be a valid integer between 1 and 10 inclusive\n"
     ]
    }
   ],
   "source": [
    "%run 'awfulpoetry' \"asdasd\""
   ]
  },
  {
   "cell_type": "code",
   "execution_count": null,
   "id": "cdab937e",
   "metadata": {},
   "outputs": [],
   "source": []
  }
 ],
 "metadata": {
  "kernelspec": {
   "display_name": "Python 3 (ipykernel)",
   "language": "python",
   "name": "python3"
  },
  "language_info": {
   "codemirror_mode": {
    "name": "ipython",
    "version": 3
   },
   "file_extension": ".py",
   "mimetype": "text/x-python",
   "name": "python",
   "nbconvert_exporter": "python",
   "pygments_lexer": "ipython3",
   "version": "3.8.11"
  }
 },
 "nbformat": 4,
 "nbformat_minor": 5
}
