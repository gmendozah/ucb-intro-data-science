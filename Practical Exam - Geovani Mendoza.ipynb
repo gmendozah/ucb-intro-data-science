{
 "cells": [
  {
   "cell_type": "markdown",
   "id": "a3cdb760",
   "metadata": {},
   "source": [
    "Name: Geovani Mendoza"
   ]
  },
  {
   "cell_type": "markdown",
   "id": "c7a76073",
   "metadata": {},
   "source": [
    "# Staff Augmentation Dataset"
   ]
  },
  {
   "cell_type": "markdown",
   "id": "ef83700a",
   "metadata": {},
   "source": [
    "The dataset is about a company that provides IT Staff Augmentation services to it's clients."
   ]
  },
  {
   "cell_type": "markdown",
   "id": "8e21363f",
   "metadata": {},
   "source": [
    "## Part 1. Load the dataset"
   ]
  },
  {
   "cell_type": "markdown",
   "id": "0307c521",
   "metadata": {},
   "source": [
    "### dataset contains the following columns\n",
    "\n",
    "<b>project_id</b>, represents the id of the project, type integer. </br>\n",
    "<b>project_name</b>, name of the project, type string.</br>\n",
    "<b>customer_name</b>, customer to which the company provide services to, type string. </br>\n",
    "<b>account_annual_revenue</b>, the amount of money that client pays to the company, type double. </br>\n",
    "<b>assigned_resources</b>, quantity of developers assigned to complete the client's project, type integer. </br>"
   ]
  },
  {
   "cell_type": "code",
   "execution_count": 1,
   "id": "49993660",
   "metadata": {},
   "outputs": [],
   "source": [
    "import pandas as pd\n",
    "data = pd.read_csv('accounts.csv')"
   ]
  },
  {
   "cell_type": "code",
   "execution_count": 2,
   "id": "86275c33",
   "metadata": {},
   "outputs": [
    {
     "data": {
      "text/html": [
       "<div>\n",
       "<style scoped>\n",
       "    .dataframe tbody tr th:only-of-type {\n",
       "        vertical-align: middle;\n",
       "    }\n",
       "\n",
       "    .dataframe tbody tr th {\n",
       "        vertical-align: top;\n",
       "    }\n",
       "\n",
       "    .dataframe thead th {\n",
       "        text-align: right;\n",
       "    }\n",
       "</style>\n",
       "<table border=\"1\" class=\"dataframe\">\n",
       "  <thead>\n",
       "    <tr style=\"text-align: right;\">\n",
       "      <th></th>\n",
       "      <th>project_id</th>\n",
       "      <th>project_name</th>\n",
       "      <th>customer_name</th>\n",
       "      <th>account_annual_revenue</th>\n",
       "      <th>assigned_resources</th>\n",
       "    </tr>\n",
       "  </thead>\n",
       "  <tbody>\n",
       "    <tr>\n",
       "      <th>0</th>\n",
       "      <td>1</td>\n",
       "      <td>College Readiness App Development</td>\n",
       "      <td>Julia LLC</td>\n",
       "      <td>1500000.0</td>\n",
       "      <td>5.0</td>\n",
       "    </tr>\n",
       "    <tr>\n",
       "      <th>1</th>\n",
       "      <td>2</td>\n",
       "      <td>College Readiness Analytics</td>\n",
       "      <td>Julia LLC</td>\n",
       "      <td>300000.0</td>\n",
       "      <td>2.0</td>\n",
       "    </tr>\n",
       "    <tr>\n",
       "      <th>2</th>\n",
       "      <td>3</td>\n",
       "      <td>Unity Web Development</td>\n",
       "      <td>CollegeFox LLC</td>\n",
       "      <td>150000.0</td>\n",
       "      <td>1.0</td>\n",
       "    </tr>\n",
       "    <tr>\n",
       "      <th>3</th>\n",
       "      <td>4</td>\n",
       "      <td>Paypal Mobile App</td>\n",
       "      <td>Paypal Inc</td>\n",
       "      <td>10000000.0</td>\n",
       "      <td>15.0</td>\n",
       "    </tr>\n",
       "    <tr>\n",
       "      <th>4</th>\n",
       "      <td>5</td>\n",
       "      <td>Paypal Mobile Testing App</td>\n",
       "      <td>Paypal Inc</td>\n",
       "      <td>600000.0</td>\n",
       "      <td>5.0</td>\n",
       "    </tr>\n",
       "    <tr>\n",
       "      <th>5</th>\n",
       "      <td>6</td>\n",
       "      <td>Github Testing</td>\n",
       "      <td>Github Inc</td>\n",
       "      <td>700000.0</td>\n",
       "      <td>9.0</td>\n",
       "    </tr>\n",
       "    <tr>\n",
       "      <th>6</th>\n",
       "      <td>7</td>\n",
       "      <td>Book Seller Web Development</td>\n",
       "      <td>Ucons LLC</td>\n",
       "      <td>450000.0</td>\n",
       "      <td>4.0</td>\n",
       "    </tr>\n",
       "    <tr>\n",
       "      <th>7</th>\n",
       "      <td>8</td>\n",
       "      <td>Book Seller Back-End Development</td>\n",
       "      <td>Ucons LLC</td>\n",
       "      <td>650000.0</td>\n",
       "      <td>4.0</td>\n",
       "    </tr>\n",
       "    <tr>\n",
       "      <th>8</th>\n",
       "      <td>9</td>\n",
       "      <td>Student Connect</td>\n",
       "      <td>Coursera Inc</td>\n",
       "      <td>20500000.0</td>\n",
       "      <td>27.0</td>\n",
       "    </tr>\n",
       "    <tr>\n",
       "      <th>9</th>\n",
       "      <td>10</td>\n",
       "      <td>Student Connect 2</td>\n",
       "      <td>Coursera Inc</td>\n",
       "      <td>100000.0</td>\n",
       "      <td>NaN</td>\n",
       "    </tr>\n",
       "  </tbody>\n",
       "</table>\n",
       "</div>"
      ],
      "text/plain": [
       "   project_id                       project_name    customer_name  \\\n",
       "0           1  College Readiness App Development        Julia LLC   \n",
       "1           2        College Readiness Analytics        Julia LLC   \n",
       "2           3              Unity Web Development   CollegeFox LLC   \n",
       "3           4                  Paypal Mobile App       Paypal Inc   \n",
       "4           5          Paypal Mobile Testing App       Paypal Inc   \n",
       "5           6                     Github Testing       Github Inc   \n",
       "6           7        Book Seller Web Development        Ucons LLC   \n",
       "7           8   Book Seller Back-End Development        Ucons LLC   \n",
       "8           9                    Student Connect     Coursera Inc   \n",
       "9          10                  Student Connect 2     Coursera Inc   \n",
       "\n",
       "   account_annual_revenue  assigned_resources  \n",
       "0               1500000.0                 5.0  \n",
       "1                300000.0                 2.0  \n",
       "2                150000.0                 1.0  \n",
       "3              10000000.0                15.0  \n",
       "4                600000.0                 5.0  \n",
       "5                700000.0                 9.0  \n",
       "6                450000.0                 4.0  \n",
       "7                650000.0                 4.0  \n",
       "8              20500000.0                27.0  \n",
       "9                100000.0                 NaN  "
      ]
     },
     "execution_count": 2,
     "metadata": {},
     "output_type": "execute_result"
    }
   ],
   "source": [
    "data"
   ]
  },
  {
   "cell_type": "markdown",
   "id": "69417088",
   "metadata": {},
   "source": [
    "## Part 2. Numpy"
   ]
  },
  {
   "cell_type": "code",
   "execution_count": 3,
   "id": "d4e04d87",
   "metadata": {},
   "outputs": [],
   "source": [
    "import numpy as np"
   ]
  },
  {
   "cell_type": "code",
   "execution_count": 4,
   "id": "1e756d5f",
   "metadata": {},
   "outputs": [
    {
     "name": "stdout",
     "output_type": "stream",
     "text": [
      "[ 1500000.   300000.   150000. 10000000.   600000.   700000.   450000.\n",
      "   650000. 20500000.   100000.]\n"
     ]
    }
   ],
   "source": [
    "annual_revenue = np.array(data['account_annual_revenue'])\n",
    "print(annual_revenue)"
   ]
  },
  {
   "cell_type": "code",
   "execution_count": 5,
   "id": "a40f24c8",
   "metadata": {},
   "outputs": [
    {
     "name": "stdout",
     "output_type": "stream",
     "text": [
      "Mean revenue:        3495000.0\n",
      "Standard deviation: 6339930.993315306\n",
      "Minimum revenue:     100000.0\n",
      "Maximum revenue:     20500000.0\n",
      "Variance:     40194725000000.0\n"
     ]
    }
   ],
   "source": [
    "print(\"Mean revenue:       \", annual_revenue.mean())\n",
    "print(\"Standard deviation:\", annual_revenue.std())\n",
    "print(\"Minimum revenue:    \", annual_revenue.min())\n",
    "print(\"Maximum revenue:    \", annual_revenue.max())\n",
    "print(\"Variance:    \", np.var(annual_revenue))"
   ]
  },
  {
   "cell_type": "markdown",
   "id": "b3ea933a",
   "metadata": {},
   "source": [
    "### Digging into the data"
   ]
  },
  {
   "cell_type": "code",
   "execution_count": 6,
   "id": "36ec4452",
   "metadata": {},
   "outputs": [],
   "source": [
    "# getting the project that has exactly 1 member\n",
    "assigned_resources = np.array(data['assigned_resources'])"
   ]
  },
  {
   "cell_type": "code",
   "execution_count": 7,
   "id": "536b85fd",
   "metadata": {},
   "outputs": [
    {
     "data": {
      "text/plain": [
       "array([False, False,  True, False, False, False, False, False, False,\n",
       "       False])"
      ]
     },
     "execution_count": 7,
     "metadata": {},
     "output_type": "execute_result"
    }
   ],
   "source": [
    "assigned_resources == 1"
   ]
  },
  {
   "cell_type": "code",
   "execution_count": 8,
   "id": "c9203764",
   "metadata": {},
   "outputs": [
    {
     "data": {
      "text/plain": [
       "array([  100000.,   150000.,   300000.,   450000.,   600000.,   650000.,\n",
       "         700000.,  1500000., 10000000., 20500000.])"
      ]
     },
     "execution_count": 8,
     "metadata": {},
     "output_type": "execute_result"
    }
   ],
   "source": [
    "# sorting the revenue\n",
    "revenue = np.array(data['account_annual_revenue'])\n",
    "np.sort(revenue)"
   ]
  },
  {
   "cell_type": "code",
   "execution_count": 9,
   "id": "60ca62df",
   "metadata": {},
   "outputs": [],
   "source": [
    "# structured data\n",
    "project_name = np.array(data['project_name'])\n",
    "developers = np.array(data['assigned_resources'])\n",
    "\n",
    "structured_data = np.zeros(developers.size, dtype = {'names':('project_name', 'developers'),\n",
    "          'formats':('U50', 'i4')})"
   ]
  },
  {
   "cell_type": "code",
   "execution_count": 10,
   "id": "e593ac68",
   "metadata": {},
   "outputs": [
    {
     "name": "stdout",
     "output_type": "stream",
     "text": [
      "[('College Readiness App Development',           5)\n",
      " ('College Readiness Analytics',           2)\n",
      " ('Unity Web Development',           1) ('Paypal Mobile App',          15)\n",
      " ('Paypal Mobile Testing App',           5)\n",
      " ('Github Testing',           9)\n",
      " ('Book Seller Web Development',           4)\n",
      " ('Book Seller Back-End Development',           4)\n",
      " ('Student Connect',          27) ('Student Connect 2', -2147483648)]\n"
     ]
    }
   ],
   "source": [
    "structured_data['project_name'] = project_name\n",
    "structured_data['developers'] = developers\n",
    "print(structured_data)"
   ]
  },
  {
   "cell_type": "markdown",
   "id": "8745c59a",
   "metadata": {},
   "source": [
    "## Part 3. Data Manipulation with Pandas"
   ]
  },
  {
   "cell_type": "code",
   "execution_count": 11,
   "id": "b8d717ba",
   "metadata": {},
   "outputs": [],
   "source": [
    "import pandas as pd\n",
    "data = pd.read_csv('accounts.csv')"
   ]
  },
  {
   "cell_type": "code",
   "execution_count": 12,
   "id": "ae578fca",
   "metadata": {},
   "outputs": [
    {
     "data": {
      "text/plain": [
       "0     1500000.0\n",
       "1      300000.0\n",
       "2      150000.0\n",
       "3    10000000.0\n",
       "4      600000.0\n",
       "5      700000.0\n",
       "6      450000.0\n",
       "7      650000.0\n",
       "8    20500000.0\n",
       "9      100000.0\n",
       "Name: account_annual_revenue, dtype: float64"
      ]
     },
     "execution_count": 12,
     "metadata": {},
     "output_type": "execute_result"
    }
   ],
   "source": [
    "revenue = pd.Series(data['account_annual_revenue'])\n",
    "revenue"
   ]
  },
  {
   "cell_type": "code",
   "execution_count": 13,
   "id": "e0518cef",
   "metadata": {},
   "outputs": [
    {
     "data": {
      "text/html": [
       "<div>\n",
       "<style scoped>\n",
       "    .dataframe tbody tr th:only-of-type {\n",
       "        vertical-align: middle;\n",
       "    }\n",
       "\n",
       "    .dataframe tbody tr th {\n",
       "        vertical-align: top;\n",
       "    }\n",
       "\n",
       "    .dataframe thead th {\n",
       "        text-align: right;\n",
       "    }\n",
       "</style>\n",
       "<table border=\"1\" class=\"dataframe\">\n",
       "  <thead>\n",
       "    <tr style=\"text-align: right;\">\n",
       "      <th></th>\n",
       "      <th>project_name</th>\n",
       "      <th>assigned_resources</th>\n",
       "    </tr>\n",
       "  </thead>\n",
       "  <tbody>\n",
       "    <tr>\n",
       "      <th>0</th>\n",
       "      <td>College Readiness App Development</td>\n",
       "      <td>5.0</td>\n",
       "    </tr>\n",
       "    <tr>\n",
       "      <th>1</th>\n",
       "      <td>College Readiness Analytics</td>\n",
       "      <td>2.0</td>\n",
       "    </tr>\n",
       "    <tr>\n",
       "      <th>2</th>\n",
       "      <td>Unity Web Development</td>\n",
       "      <td>1.0</td>\n",
       "    </tr>\n",
       "    <tr>\n",
       "      <th>3</th>\n",
       "      <td>Paypal Mobile App</td>\n",
       "      <td>15.0</td>\n",
       "    </tr>\n",
       "    <tr>\n",
       "      <th>4</th>\n",
       "      <td>Paypal Mobile Testing App</td>\n",
       "      <td>5.0</td>\n",
       "    </tr>\n",
       "    <tr>\n",
       "      <th>5</th>\n",
       "      <td>Github Testing</td>\n",
       "      <td>9.0</td>\n",
       "    </tr>\n",
       "    <tr>\n",
       "      <th>6</th>\n",
       "      <td>Book Seller Web Development</td>\n",
       "      <td>4.0</td>\n",
       "    </tr>\n",
       "    <tr>\n",
       "      <th>7</th>\n",
       "      <td>Book Seller Back-End Development</td>\n",
       "      <td>4.0</td>\n",
       "    </tr>\n",
       "    <tr>\n",
       "      <th>8</th>\n",
       "      <td>Student Connect</td>\n",
       "      <td>27.0</td>\n",
       "    </tr>\n",
       "    <tr>\n",
       "      <th>9</th>\n",
       "      <td>Student Connect 2</td>\n",
       "      <td>NaN</td>\n",
       "    </tr>\n",
       "  </tbody>\n",
       "</table>\n",
       "</div>"
      ],
      "text/plain": [
       "                        project_name  assigned_resources\n",
       "0  College Readiness App Development                 5.0\n",
       "1        College Readiness Analytics                 2.0\n",
       "2              Unity Web Development                 1.0\n",
       "3                  Paypal Mobile App                15.0\n",
       "4          Paypal Mobile Testing App                 5.0\n",
       "5                     Github Testing                 9.0\n",
       "6        Book Seller Web Development                 4.0\n",
       "7   Book Seller Back-End Development                 4.0\n",
       "8                    Student Connect                27.0\n",
       "9                  Student Connect 2                 NaN"
      ]
     },
     "execution_count": 13,
     "metadata": {},
     "output_type": "execute_result"
    }
   ],
   "source": [
    "# making dataframes\n",
    "dataf = pd.DataFrame({'project_name': data['project_name'],'assigned_resources': data['assigned_resources']})\n",
    "dataf\n",
    "# much easier than building an structured array with NumPy"
   ]
  },
  {
   "cell_type": "code",
   "execution_count": 14,
   "id": "940241cd",
   "metadata": {},
   "outputs": [
    {
     "data": {
      "text/html": [
       "<div>\n",
       "<style scoped>\n",
       "    .dataframe tbody tr th:only-of-type {\n",
       "        vertical-align: middle;\n",
       "    }\n",
       "\n",
       "    .dataframe tbody tr th {\n",
       "        vertical-align: top;\n",
       "    }\n",
       "\n",
       "    .dataframe thead th {\n",
       "        text-align: right;\n",
       "    }\n",
       "</style>\n",
       "<table border=\"1\" class=\"dataframe\">\n",
       "  <thead>\n",
       "    <tr style=\"text-align: right;\">\n",
       "      <th></th>\n",
       "      <th>project_id</th>\n",
       "      <th>project_name</th>\n",
       "      <th>customer_name</th>\n",
       "      <th>account_annual_revenue</th>\n",
       "      <th>assigned_resources</th>\n",
       "    </tr>\n",
       "  </thead>\n",
       "  <tbody>\n",
       "    <tr>\n",
       "      <th>0</th>\n",
       "      <td>1</td>\n",
       "      <td>College Readiness App Development</td>\n",
       "      <td>Julia LLC</td>\n",
       "      <td>1500000.0</td>\n",
       "      <td>5</td>\n",
       "    </tr>\n",
       "    <tr>\n",
       "      <th>1</th>\n",
       "      <td>2</td>\n",
       "      <td>College Readiness Analytics</td>\n",
       "      <td>Julia LLC</td>\n",
       "      <td>300000.0</td>\n",
       "      <td>2</td>\n",
       "    </tr>\n",
       "    <tr>\n",
       "      <th>2</th>\n",
       "      <td>3</td>\n",
       "      <td>Unity Web Development</td>\n",
       "      <td>CollegeFox LLC</td>\n",
       "      <td>150000.0</td>\n",
       "      <td>1</td>\n",
       "    </tr>\n",
       "    <tr>\n",
       "      <th>3</th>\n",
       "      <td>4</td>\n",
       "      <td>Paypal Mobile App</td>\n",
       "      <td>Paypal Inc</td>\n",
       "      <td>10000000.0</td>\n",
       "      <td>15</td>\n",
       "    </tr>\n",
       "    <tr>\n",
       "      <th>4</th>\n",
       "      <td>5</td>\n",
       "      <td>Paypal Mobile Testing App</td>\n",
       "      <td>Paypal Inc</td>\n",
       "      <td>600000.0</td>\n",
       "      <td>5</td>\n",
       "    </tr>\n",
       "    <tr>\n",
       "      <th>5</th>\n",
       "      <td>6</td>\n",
       "      <td>Github Testing</td>\n",
       "      <td>Github Inc</td>\n",
       "      <td>700000.0</td>\n",
       "      <td>9</td>\n",
       "    </tr>\n",
       "    <tr>\n",
       "      <th>6</th>\n",
       "      <td>7</td>\n",
       "      <td>Book Seller Web Development</td>\n",
       "      <td>Ucons LLC</td>\n",
       "      <td>450000.0</td>\n",
       "      <td>4</td>\n",
       "    </tr>\n",
       "    <tr>\n",
       "      <th>7</th>\n",
       "      <td>8</td>\n",
       "      <td>Book Seller Back-End Development</td>\n",
       "      <td>Ucons LLC</td>\n",
       "      <td>650000.0</td>\n",
       "      <td>4</td>\n",
       "    </tr>\n",
       "    <tr>\n",
       "      <th>8</th>\n",
       "      <td>9</td>\n",
       "      <td>Student Connect</td>\n",
       "      <td>Coursera Inc</td>\n",
       "      <td>20500000.0</td>\n",
       "      <td>27</td>\n",
       "    </tr>\n",
       "    <tr>\n",
       "      <th>9</th>\n",
       "      <td>10</td>\n",
       "      <td>Student Connect 2</td>\n",
       "      <td>Coursera Inc</td>\n",
       "      <td>100000.0</td>\n",
       "      <td>0</td>\n",
       "    </tr>\n",
       "  </tbody>\n",
       "</table>\n",
       "</div>"
      ],
      "text/plain": [
       "   project_id                       project_name    customer_name  \\\n",
       "0           1  College Readiness App Development        Julia LLC   \n",
       "1           2        College Readiness Analytics        Julia LLC   \n",
       "2           3              Unity Web Development   CollegeFox LLC   \n",
       "3           4                  Paypal Mobile App       Paypal Inc   \n",
       "4           5          Paypal Mobile Testing App       Paypal Inc   \n",
       "5           6                     Github Testing       Github Inc   \n",
       "6           7        Book Seller Web Development        Ucons LLC   \n",
       "7           8   Book Seller Back-End Development        Ucons LLC   \n",
       "8           9                    Student Connect     Coursera Inc   \n",
       "9          10                  Student Connect 2     Coursera Inc   \n",
       "\n",
       "   account_annual_revenue  assigned_resources  \n",
       "0               1500000.0                   5  \n",
       "1                300000.0                   2  \n",
       "2                150000.0                   1  \n",
       "3              10000000.0                  15  \n",
       "4                600000.0                   5  \n",
       "5                700000.0                   9  \n",
       "6                450000.0                   4  \n",
       "7                650000.0                   4  \n",
       "8              20500000.0                  27  \n",
       "9                100000.0                   0  "
      ]
     },
     "execution_count": 14,
     "metadata": {},
     "output_type": "execute_result"
    }
   ],
   "source": [
    "# Filling null values\n",
    "# Last project does not have assined resources\n",
    "data = data.fillna(0)\n",
    "\n",
    "# convertinf flaot column to integer\n",
    "data.assigned_resources = data.assigned_resources.astype(int)\n",
    "data"
   ]
  },
  {
   "cell_type": "markdown",
   "id": "4884001b",
   "metadata": {},
   "source": [
    "now the last project at least has 0 assigned resources and not NaN"
   ]
  },
  {
   "cell_type": "code",
   "execution_count": 15,
   "id": "541c6bf0",
   "metadata": {},
   "outputs": [
    {
     "data": {
      "text/plain": [
       "MultiIndex([('College Readiness App Development',  5),\n",
       "            (      'College Readiness Analytics',  2),\n",
       "            (            'Unity Web Development',  1),\n",
       "            (                'Paypal Mobile App', 15),\n",
       "            (        'Paypal Mobile Testing App',  5),\n",
       "            (                   'Github Testing',  9),\n",
       "            (      'Book Seller Web Development',  4),\n",
       "            ( 'Book Seller Back-End Development',  4),\n",
       "            (                  'Student Connect', 27),\n",
       "            (                'Student Connect 2',  0)],\n",
       "           names=['project_name', 'assigned_resources'])"
      ]
     },
     "execution_count": 15,
     "metadata": {},
     "output_type": "execute_result"
    }
   ],
   "source": [
    "# Indexing\n",
    "# getting the project that have exactly 5 developers assigned\n",
    "m_index = pd.MultiIndex.from_arrays([data.project_name, data.assigned_resources])\n",
    "m_index"
   ]
  },
  {
   "cell_type": "code",
   "execution_count": 16,
   "id": "a7cf3124",
   "metadata": {},
   "outputs": [
    {
     "data": {
      "text/plain": [
       "MultiIndex([('Github Testing', 9)],\n",
       "           names=['project_name', 'assigned_resources'])"
      ]
     },
     "execution_count": 16,
     "metadata": {},
     "output_type": "execute_result"
    }
   ],
   "source": [
    "m_index[5:6]"
   ]
  },
  {
   "cell_type": "markdown",
   "id": "22929cee",
   "metadata": {},
   "source": [
    "## Part 4. Visualization with Matplotlib"
   ]
  },
  {
   "cell_type": "code",
   "execution_count": 17,
   "id": "8ed25d7f",
   "metadata": {},
   "outputs": [],
   "source": [
    "import matplotlib.pyplot as plt\n",
    "%matplotlib inline"
   ]
  },
  {
   "cell_type": "code",
   "execution_count": 18,
   "id": "5f031e63",
   "metadata": {},
   "outputs": [],
   "source": [
    "assigned_resources = np.array(data['assigned_resources'])"
   ]
  },
  {
   "cell_type": "code",
   "execution_count": 19,
   "id": "31625395",
   "metadata": {},
   "outputs": [
    {
     "data": {
      "image/png": "[encoded data removed]",
      "text/plain": [
       "<Figure size 432x288 with 1 Axes>"
      ]
     },
     "metadata": {
      "needs_background": "light"
     },
     "output_type": "display_data"
    }
   ],
   "source": [
    "plt.hist(assigned_resources)\n",
    "plt.title('Distribution of Assigned resources')\n",
    "plt.xlabel('Assigned resources')\n",
    "plt.ylabel('number');"
   ]
  },
  {
   "cell_type": "markdown",
   "id": "9d3af119",
   "metadata": {},
   "source": [
    "there are more teams betwen 1 and 5 members, than teams over 10"
   ]
  },
  {
   "cell_type": "code",
   "execution_count": null,
   "id": "6b8f9990",
   "metadata": {},
   "outputs": [],
   "source": []
  },
  {
   "cell_type": "code",
   "execution_count": null,
   "id": "e70aef17",
   "metadata": {},
   "outputs": [],
   "source": []
  }
 ],
 "metadata": {
  "kernelspec": {
   "display_name": "Python 3 (ipykernel)",
   "language": "python",
   "name": "python3"
  },
  "language_info": {
   "codemirror_mode": {
    "name": "ipython",
    "version": 3
   },
   "file_extension": ".py",
   "mimetype": "text/x-python",
   "name": "python",
   "nbconvert_exporter": "python",
   "pygments_lexer": "ipython3",
   "version": "3.8.11"
  }
 },
 "nbformat": 4,
 "nbformat_minor": 5
}
