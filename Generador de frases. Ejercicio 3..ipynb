{
 "cells": [
  {
   "cell_type": "markdown",
   "id": "5eed583c",
   "metadata": {},
   "source": [
    "3) In some situations we need to generate test text—for example, to populate\n",
    "a web site design before the real content is available, or to provide test\n",
    "content when developing a report writer. To this end, write a program that\n",
    "generates awful poems (the kind that would make a Vogon blush).\n",
    "\n",
    "Create some lists of words, for example, articles (“the”, “a”, etc.), subjects\n",
    "(“cat”, “dog”, “man”, “woman”), verbs (“sang”, “ran”, “jumped”), and adverbs\n",
    "(“loudly”, “quietly”, “well”, “badly”). Then loop ﬁve times, and on each it-\n",
    "eration use the random.choice() function to pick an article, subject, verb,\n",
    "and adverb. Use random.randint() to choose between two sentence struc-\n",
    "tures: article, subject, verb, and adverb, or just article, subject, and verb,\n",
    "and print the sentence. Here is an example run:\n",
    "\n",
    "\n",
    "\n",
    "awfulpoetry1_ans.py\n",
    "another boy laughed badly\n",
    "the woman jumped\n",
    "a boy hoped\n",
    "a horse jumped\n",
    "another man laughed rudely\n",
    "\n",
    "\n",
    "\n",
    "You will need to import the random module. The lists can be done in about\n",
    "4–10 lines depending on how many words you put in them, and the loop\n",
    "itself requires less than ten lines, so with some blank lines the whole\n",
    "program can be done in about 20 lines of code. A solution is provided as\n",
    "awfulpoetry1_ans.py."
   ]
  },
  {
   "cell_type": "code",
   "execution_count": 32,
   "id": "6ff4dedc",
   "metadata": {},
   "outputs": [],
   "source": [
    "import random\n",
    "\n",
    "\n",
    "articles_list = ['the', 'a', 'my']\n",
    "subjects_list = ['cat', 'dog', 'father', 'mother', 'sister', 'brother']\n",
    "verb_list = ['sang', 'ran', 'jumped']\n",
    "adverb_list = ['loudly', 'quietly', 'well', 'badly']\n"
   ]
  },
  {
   "cell_type": "code",
   "execution_count": 33,
   "id": "f71a3ae3",
   "metadata": {},
   "outputs": [
    {
     "name": "stdout",
     "output_type": "stream",
     "text": [
      "a cat ran quietly\n",
      "the cat ran\n",
      "my mother ran badly\n",
      "my father jumped\n",
      "a mother ran\n",
      "the cat jumped well\n",
      "my brother jumped quietly\n",
      "my brother ran\n",
      "my brother sang\n",
      "my sister ran\n"
     ]
    }
   ],
   "source": [
    "for i in range(10):\n",
    "    sentence_type = random.randint(0, 1)\n",
    "    \n",
    "    article = random.choice(articles_list)\n",
    "    subject = random.choice(subjects_list)\n",
    "    verb = random.choice(verb_list)\n",
    "        \n",
    "    if sentence_type == 0:\n",
    "        adverb = random.choice(adverb_list)\n",
    "        print(\"{article} {subject} {verb} {adverb}\".format(article = article, subject = subject, verb = verb, adverb = adverb))\n",
    "    else:\n",
    "        print(\"{article} {subject} {verb}\".format(article = article, subject = subject, verb = verb))\n",
    "        \n",
    "    \n",
    "    "
   ]
  },
  {
   "cell_type": "code",
   "execution_count": null,
   "id": "5aa4d396",
   "metadata": {},
   "outputs": [],
   "source": []
  },
  {
   "cell_type": "code",
   "execution_count": null,
   "id": "6cdbc636",
   "metadata": {},
   "outputs": [],
   "source": []
  }
 ],
 "metadata": {
  "kernelspec": {
   "display_name": "Python 3 (ipykernel)",
   "language": "python",
   "name": "python3"
  },
  "language_info": {
   "codemirror_mode": {
    "name": "ipython",
    "version": 3
   },
   "file_extension": ".py",
   "mimetype": "text/x-python",
   "name": "python",
   "nbconvert_exporter": "python",
   "pygments_lexer": "ipython3",
   "version": "3.8.11"
  }
 },
 "nbformat": 4,
 "nbformat_minor": 5
}
